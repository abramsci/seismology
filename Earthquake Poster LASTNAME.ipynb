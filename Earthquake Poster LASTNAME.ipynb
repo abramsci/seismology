{
 "cells": [
  {
   "cell_type": "markdown",
   "id": "02c36a00",
   "metadata": {},
   "source": [
    "<div style=\"font-weight: bold; text-align:center; font-size:32px;\">\n",
    "    Практика: Постер (информационный лист) о землетрясении\n",
    "</div>\n",
    "<br>\n",
    "\n",
    "<div style=\"text-align:left; font-size:12px;\">\n",
    "    <b>Last Updated:</b>\n",
    "    2022-05-25\n",
    "</div>\n",
    "\n",
    "<div>\n",
    "<img src=\"https://docs.obspy.org/_images/obspy_logo_full.svg\" style=\"float: left; width: 45%; margin-left: 2%; margin-bottom: 0.1em;\">\n",
    "<img src=\"https://matplotlib.org/_static/images/logo2.svg\" style=\"float: right; width: 51%; margin-right: 2%; margin-bottom: 0.2em;\">\n",
    "<br>\n",
    "</div>"
   ]
  },
  {
   "cell_type": "markdown",
   "id": "db1eada4",
   "metadata": {},
   "source": [
    "**Цель задания:** Отрисовать информационный лист / постер о конкретном землетрясении, произошедшем, например, в день рождения (или любой день по выбору).\n",
    "\n",
    "**Примеры для вдохновения**:\n",
    "* [GEOFON: Mw 7.3, 2022-03-16 14:36:34 - Near East Coast of Honshu, Japan](http://geofon.gfz-potsdam.de/eqinfo/event.php?id=gfz2022fgid)\n",
    "![GEOFON event](http://geofon.gfz-potsdam.de/data/alerts/2022/gfz2022fgid/gfz2022fgid.jpg)\n",
    "* [GEOSCOPE: Mw 8.0, 2021/03/04 19:28:30 - Kermadec Islands, New Zealand](http://geoscope.ipgp.fr/index.php/en/catalog/earthquake-description?seis=us7000dflf)\n",
    "![GEOSCOPE waveforms](http://geoscope.ipgp.fr/seismes/events/2021/us7000dflf/graphLHZ.png)\n",
    "* [USGS: M 8.1, 2007-04-01 20:39:58 - 45 km SSE of Gizo, Solomon Islands](https://earthquake.usgs.gov/earthquakes/eventpage/us2007aqbk/executive)\n",
    "![USGS poster](https://earthquake.usgs.gov/product/poster/20070401/us/1461859724848/poster.jpg)\n",
    "\n",
    "**Основные инструменты:** \n",
    "* Сonda & Jupyter Notebook\n",
    "* [ObsPy](https://docs.obspy.org/) - Python framework for processing seismological data\n",
    "* [Matplotlib](https://matplotlib.org/) - Comprehensive library for creating visualizations in Python\n",
    "\n",
    "**Ресурсы для выполнения задания**\n",
    "\n",
    "* [portal: IRIS Incorporated Research Institutions for Seismology](https://ds.iris.edu/ds/nodes/dmc/data/#requests)\n",
    "* [portal: GFZ GEOFON Program](https://geofon.gfz-potsdam.de/)\n",
    "* [portal: IPGP GEOSCOPE Observatory](http://geoscope.ipgp.fr/index.php/en/)\n",
    "* [portal: USGS Earthquake Hazards Program](https://www.usgs.gov/programs/earthquake-hazards/earthquakes)\n",
    "\n",
    "**Справочная информация**\n",
    "\n",
    "* [webapp: IRIS Birthquake app](https://www.iris.edu/app/birthquake/) &ndash; \n",
    "* [info: FDSN Station-XML schema](http://www.fdsn.org/xml/station/)\n",
    "* [PDF: SEED 2.4 Reference Manual](http://www.fdsn.org/pdf/SEEDManual_V2.4.pdf)"
   ]
  },
  {
   "cell_type": "code",
   "execution_count": null,
   "id": "14ff5a79",
   "metadata": {},
   "outputs": [],
   "source": []
  }
 ],
 "metadata": {
  "hide_input": false,
  "kernelspec": {
   "display_name": "seismology",
   "language": "python",
   "name": "seismology"
  },
  "language_info": {
   "codemirror_mode": {
    "name": "ipython",
    "version": 3
   },
   "file_extension": ".py",
   "mimetype": "text/x-python",
   "name": "python",
   "nbconvert_exporter": "python",
   "pygments_lexer": "ipython3",
   "version": "3.9.12"
  }
 },
 "nbformat": 4,
 "nbformat_minor": 5
}
